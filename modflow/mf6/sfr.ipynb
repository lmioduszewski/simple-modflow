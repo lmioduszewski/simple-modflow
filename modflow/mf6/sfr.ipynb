{
 "cells": [
  {
   "cell_type": "code",
   "execution_count": 3,
   "outputs": [],
   "source": [
    "import pandas as pd\n",
    "import geopandas as gpd\n",
    "from simple_modflow.modflow.mf6.voronoiplus import VoronoiGridPlus as Vor\n",
    "from pathlib import Path\n",
    "import shapely as shp\n",
    "import pickle\n",
    "\n",
    "class SFR:\n",
    "\n",
    "    def __init__(\n",
    "            self,\n",
    "            vor: Vor = None,\n",
    "            stream_path: Path = None\n",
    "    ):\n",
    "        self.vor = vor\n",
    "        self.stream_path = stream_path\n",
    "        self.stream_gdf = gpd.read_file(stream_path)\n",
    "        self.stream_geom = self.stream_gdf.geometry\n",
    "        self.stream_points = {}\n",
    "        self.vor_intersect = {}\n",
    "\n",
    "        for i, geom in enumerate(self.stream_geom):\n",
    "            x, y = geom.coords.xy\n",
    "            self.stream_points[i] = [shp.Point(point) for point in list(zip(x,y))]\n",
    "            self.vor_intersect[i] = vor.get_vor_cells_as_series(geom)"
   ],
   "metadata": {
    "collapsed": false,
    "ExecuteTime": {
     "end_time": "2024-05-16T00:35:37.956243500Z",
     "start_time": "2024-05-16T00:35:37.900879600Z"
    }
   },
   "id": "9b7b3aa4b791dea"
  },
  {
   "cell_type": "code",
   "execution_count": 4,
   "outputs": [],
   "source": [
    "vor_path = Path(r'C:\\Users\\lukem\\Python\\MODFLOW\\LakePointe\\vor_lakepointe.vor')\n",
    "with open(vor_path, 'rb') as file:\n",
    "    vor: Vor = pickle.load(file)"
   ],
   "metadata": {
    "collapsed": false,
    "ExecuteTime": {
     "end_time": "2024-05-16T00:36:58.180677100Z",
     "start_time": "2024-05-16T00:36:57.491934200Z"
    }
   },
   "id": "ea81640962f8023a"
  },
  {
   "cell_type": "code",
   "execution_count": 5,
   "outputs": [],
   "source": [
    "input_path = Path(r'C:\\Users\\lukem\\Python\\MODFLOW\\LakePointe\\inputs')\n",
    "stream = input_path / r'shp\\rivers and streams\\streams_simplified.shp'\n",
    "sfr = SFR(vor=vor, stream_path=stream)"
   ],
   "metadata": {
    "collapsed": false,
    "ExecuteTime": {
     "end_time": "2024-05-16T00:37:00.361035Z",
     "start_time": "2024-05-16T00:37:00.061360200Z"
    }
   },
   "id": "d79617ca64a77d30"
  },
  {
   "cell_type": "code",
   "execution_count": 54,
   "outputs": [
    {
     "data": {
      "text/plain": "0    LINESTRING (1244493.689 747168.995, 1244357.98...\n1    LINESTRING (1243728.191 742929.328, 1243786.31...\nName: geometry, dtype: geometry"
     },
     "execution_count": 54,
     "metadata": {},
     "output_type": "execute_result"
    }
   ],
   "source": [
    "sfr.stream_geom"
   ],
   "metadata": {
    "collapsed": false,
    "ExecuteTime": {
     "end_time": "2024-05-16T01:01:26.789880800Z",
     "start_time": "2024-05-16T01:01:26.751225200Z"
    }
   },
   "id": "a7ef30eb8966e988"
  },
  {
   "cell_type": "code",
   "execution_count": 18,
   "outputs": [],
   "source": [
    "vor_idxs = sfr.vor_intersect[1].to_list()\n",
    "for idx in vor_idxs:\n",
    "    cell: gpd.GeoSeries = vor.gdf_vorPolys.loc[idx]\n",
    "    cell.array.sindex.query(sfr.stream_geom[1])"
   ],
   "metadata": {
    "collapsed": false,
    "ExecuteTime": {
     "end_time": "2024-05-16T00:47:04.620803500Z",
     "start_time": "2024-05-16T00:47:04.580331700Z"
    }
   },
   "id": "18859d54df0f3c77"
  },
  {
   "cell_type": "code",
   "execution_count": 30,
   "outputs": [
    {
     "data": {
      "text/plain": "array([0], dtype=int64)"
     },
     "execution_count": 30,
     "metadata": {},
     "output_type": "execute_result"
    }
   ],
   "source": [
    "vor.gdf_vorPolys.loc[idx].array.sindex.query(sfr.stream_geom[1], predicate='intersects')"
   ],
   "metadata": {
    "collapsed": false,
    "ExecuteTime": {
     "end_time": "2024-05-16T00:55:01.988393400Z",
     "start_time": "2024-05-16T00:55:01.949948600Z"
    }
   },
   "id": "f854b84d00696cac"
  },
  {
   "cell_type": "code",
   "execution_count": 63,
   "outputs": [
    {
     "data": {
      "text/plain": "7.999999999975072"
     },
     "execution_count": 63,
     "metadata": {},
     "output_type": "execute_result"
    }
   ],
   "source": [
    "sfr.stream_geom[1].intersection(vor.gdf_vorPolys.loc[92]).geometry.length"
   ],
   "metadata": {
    "collapsed": false,
    "ExecuteTime": {
     "end_time": "2024-05-16T01:07:08.839259400Z",
     "start_time": "2024-05-16T01:07:08.795275600Z"
    }
   },
   "id": "a940fc0656bd9707"
  },
  {
   "cell_type": "code",
   "execution_count": 53,
   "outputs": [
    {
     "data": {
      "text/plain": "geometry    POLYGON ((1243725.934 742939.512, 1243733.619 ...\nName: 92, dtype: geometry"
     },
     "execution_count": 53,
     "metadata": {},
     "output_type": "execute_result"
    }
   ],
   "source": [
    "vor.gdf_vorPolys.loc[92]"
   ],
   "metadata": {
    "collapsed": false,
    "ExecuteTime": {
     "end_time": "2024-05-16T01:01:14.195939600Z",
     "start_time": "2024-05-16T01:01:14.156412400Z"
    }
   },
   "id": "9217b507359469a9"
  },
  {
   "cell_type": "code",
   "execution_count": null,
   "outputs": [],
   "source": [],
   "metadata": {
    "collapsed": false
   },
   "id": "e5735b90eacbd7e8"
  }
 ],
 "metadata": {
  "kernelspec": {
   "display_name": "Python 3",
   "language": "python",
   "name": "python3"
  },
  "language_info": {
   "codemirror_mode": {
    "name": "ipython",
    "version": 2
   },
   "file_extension": ".py",
   "mimetype": "text/x-python",
   "name": "python",
   "nbconvert_exporter": "python",
   "pygments_lexer": "ipython2",
   "version": "2.7.6"
  }
 },
 "nbformat": 4,
 "nbformat_minor": 5
}
