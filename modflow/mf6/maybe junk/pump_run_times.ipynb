{
 "cells": [
  {
   "cell_type": "code",
   "execution_count": 1,
   "outputs": [],
   "source": [
    "import numpy as np\n",
    "import pandas as pd\n",
    "from pathlib import Path\n",
    "import plotly.express as px\n",
    "import plotly.graph_objs as go\n",
    "\n",
    "pump_times_filename = Path.home() / 'Documents' / 'Tehaleh' / 'CDF pump run times.xlsx'\n",
    "df = pd.read_excel(pump_times_filename)\n",
    "df_columns = pd.Index(\n",
    "    ['Date', '1A', '1B', '2A', '2B', '3A', '3B',\n",
    "     '4A', '4B', '5A', '5B']\n",
    ")\n",
    "df.columns = df_columns\n",
    "df = df.set_index('Date')\n",
    "df_rates = pd.read_excel(pump_times_filename, 1)\n",
    "df_rates = df_rates.set_index('pump')\n",
    "\n",
    "for lobe in range(1, 6):\n",
    "    pump_A = f'{lobe}A'\n",
    "    pump_B = f'{lobe}B'\n",
    "    lobeA = f'{lobe}A'\n",
    "    lobeB = f'{lobe}B'\n",
    "    more_zero_A = (df[lobeA] > 0)\n",
    "    more_zero_B = (df[lobeB] > 0)\n",
    "    is_zero_A = (df[lobeA] == 0)\n",
    "    is_zero_B = (df[lobeB] == 0)\n",
    "    more_zero_both = more_zero_A & more_zero_B\n",
    "    diff_b_a = df[lobeB] - df[lobeA]\n",
    "    just_A = more_zero_A & is_zero_B\n",
    "    just_B = more_zero_B & is_zero_A\n",
    "\n",
    "    flow_cases = [\n",
    "        diff_b_a.loc[df.loc[more_zero_both, lobeA:lobeB].loc[diff_b_a > 0].index] * df_rates.loc[lobeB][0],\n",
    "        diff_b_a.loc[df.loc[more_zero_both, lobeA:lobeB].loc[diff_b_a < 0].index] * df_rates.loc[lobeA][0] * -1,\n",
    "        df.loc[more_zero_both, lobeA:lobeB].loc[diff_b_a > 0].loc[:, lobeA] * df_rates.loc['2_pumps'][0],\n",
    "        df.loc[more_zero_both, lobeA:lobeB].loc[diff_b_a < 0].loc[:, lobeB] * df_rates.loc['2_pumps'][0],\n",
    "        df.loc[just_B, lobeB] * df_rates.loc[lobeB][0],\n",
    "        df.loc[just_A, lobeA] * df_rates.loc[lobeA][0]\n",
    "    ]\n",
    "    flow_cases[0].name = lobeB\n",
    "    flow_cases[1].name = lobeA\n",
    "    \n",
    "    for flows in flow_cases:\n",
    "        df.update(flows)\n",
    "        \n",
    "df_to_concat = []\n",
    "for lobe in range(1, 6):\n",
    "    lobeA = f'{lobe}A'\n",
    "    lobeB = f'{lobe}B'\n",
    "    df1 = df[lobeA] + df[lobeB]\n",
    "    df1.name = lobe\n",
    "    df_to_concat += [df1]\n",
    "df_flows = pd.concat(df_to_concat, axis=1)\n",
    "df_percentages = df_flows.div(df_flows.sum(axis=1), axis=0)\n",
    "df_percentages.columns = ('1_per', '2_per', '3_per', '4_per', '5_per')\n",
    "df_final = pd.concat([df_flows, df_percentages], axis=1)\n",
    "fig = go.Figure()\n",
    "fig.update_layout(\n",
    "    yaxis2=dict(\n",
    "        title=\"Percentage of total flow\",\n",
    "        overlaying=\"y\",\n",
    "        side=\"right\"\n",
    "    ),\n",
    "    yaxis_title='Flow (gpd)',\n",
    "    dragmode='pan'\n",
    ")\n",
    "for col in df_final:\n",
    "    if 'per' in str(df_final[col].name):\n",
    "        y_axis = 'y2'\n",
    "        line_mode = 'dash'\n",
    "    else:\n",
    "        y_axis = 'y1'\n",
    "        line_mode = 'solid'\n",
    "    fig.add_scattergl(\n",
    "        x=df_final[col].index,\n",
    "        y=df_final[col].tolist(),\n",
    "        yaxis=y_axis,\n",
    "        name=df_final[col].name,\n",
    "        line_dash = line_mode\n",
    "    )\n",
    "    "
   ],
   "metadata": {
    "collapsed": false,
    "ExecuteTime": {
     "end_time": "2023-12-13T23:37:24.914599700Z",
     "start_time": "2023-12-13T23:37:23.717260400Z"
    }
   },
   "id": "557987a8dd53c5fb"
  },
  {
   "cell_type": "code",
   "execution_count": 2,
   "outputs": [],
   "source": [
    "fig.show(renderer='browser', config={'scrollZoom': True})"
   ],
   "metadata": {
    "collapsed": false,
    "ExecuteTime": {
     "end_time": "2023-12-13T23:37:27.518482700Z",
     "start_time": "2023-12-13T23:37:27.040680400Z"
    }
   },
   "id": "4add8cd951e5ef3"
  },
  {
   "cell_type": "code",
   "execution_count": 73,
   "outputs": [],
   "source": [
    "fig.write_html('run_times.html', config={'scrollZoom': True}\n",
    ")"
   ],
   "metadata": {
    "collapsed": false,
    "ExecuteTime": {
     "end_time": "2023-12-12T22:59:37.516822Z",
     "start_time": "2023-12-12T22:59:37.469189700Z"
    }
   },
   "id": "1895bed0b46b302f"
  },
  {
   "cell_type": "code",
   "execution_count": 65,
   "outputs": [
    {
     "data": {
      "text/plain": "                 1A        1B       2A        2B       3A       3B        4A  \\\nDate                                                                           \n2023-11-11   5580.8   98862.5    130.8  103344.6  56628.0      0.0   92180.4   \n2023-11-12      0.0  111675.0      0.0  109691.4  59488.0      0.0  101300.4   \n2023-11-13      0.0  107600.0      0.0  104943.6  56589.0    174.4   97458.6   \n2023-11-14      0.0  100062.5      0.0   97674.3  54899.0      0.0   90003.0   \n2023-11-15      0.0  101075.0      0.0   99211.8  47593.0      0.0   91154.4   \n2023-11-16      0.0  100362.5      0.0   98043.3  50700.0      0.0   91086.0   \n2023-11-17  42466.4   40662.5  38891.2   34513.8  13260.0  47916.4   50787.0   \n2023-11-18      0.0   87675.0   4673.6   71351.4  67710.8   4708.5   77736.6   \n2023-11-19      0.0   96175.0   9232.9   74948.4  72027.2   9120.3   85990.2   \n2023-11-20      0.0   85712.5   2425.7   71307.8  66991.4   3018.6   75707.4   \n2023-11-21      0.0   81987.5  66032.2    4723.2  62042.8   4940.7   72412.8   \n2023-11-22      0.0   91100.0  71111.6    8204.1  67689.0   8643.0   80985.6   \n2023-11-23      0.0   99487.5  81030.6    6248.4  83167.0    270.9   89524.2   \n2023-11-24      0.0   89562.5   9321.8   69345.8  66795.2   9507.3   80164.8   \n2023-11-25      0.0   90525.0  11391.9   68343.0  65509.0  11713.2   81042.6   \n2023-11-26      0.0   99437.5  62653.2   26580.3  61258.0  27167.4   89843.4   \n2023-11-27      0.0   90675.0  55851.6   25362.6  52930.4  26457.9   81042.6   \n2023-11-28      0.0   83512.5  54042.2   20110.5  50837.6  20910.9   74179.8   \n2023-11-29      0.0   85512.5  57225.0   18622.2  54478.2  19350.0   76209.0   \n2023-11-30      0.0   84825.0  11811.0   62805.8  58598.4  13377.3   75308.4   \n2023-12-01   1242.6   48512.5  36423.6   57159.6  55982.4  35874.9   42100.2   \n2023-12-02      0.0   46775.0  27063.7   80529.2  80180.4  26083.8   42784.2   \n2023-12-03      0.0   51575.0   6019.8   90339.2   7059.0  88878.6   47025.0   \n2023-12-04      0.0   50250.0  15227.3   85085.4  81619.2  16963.5   58311.0   \n\n                 4B       5A       5B  \nDate                                   \n2023-11-11   3488.0      0.0  38025.6  \n2023-11-12      0.0      0.0  40617.6  \n2023-11-13      0.0      0.0  39168.0  \n2023-11-14      0.0      0.0  33494.4  \n2023-11-15      0.0      0.0  41001.6  \n2023-11-16      0.0      0.0  38102.4  \n2023-11-17  28579.8  44166.8  18163.2  \n2023-11-18      0.0   3149.4  67972.4  \n2023-11-19      0.0   6351.0  72005.4  \n2023-11-20      0.0   2044.5  67187.6  \n2023-11-21      0.0   3349.5  62282.6  \n2023-11-22      0.0   5846.4  67667.2  \n2023-11-23      0.0   4445.7  78741.6  \n2023-11-24      0.0  66947.8   7027.2  \n2023-11-25      0.0  65705.2   8659.2  \n2023-11-26      0.0  60647.6  20937.6  \n2023-11-27      0.0  52908.6  19833.6  \n2023-11-28      0.0  50903.0  15648.0  \n2023-11-29      0.0  54434.6  14611.2  \n2023-11-30      0.0  58685.6   9974.4  \n2023-12-01   2964.8  55088.6  27734.4  \n2023-12-02      0.0  79657.2  20476.8  \n2023-12-03      0.0  89816.0   4694.4  \n2023-12-04      0.0  84148.0  11155.2  ",
      "text/html": "<div>\n<style scoped>\n    .dataframe tbody tr th:only-of-type {\n        vertical-align: middle;\n    }\n\n    .dataframe tbody tr th {\n        vertical-align: top;\n    }\n\n    .dataframe thead th {\n        text-align: right;\n    }\n</style>\n<table border=\"1\" class=\"dataframe\">\n  <thead>\n    <tr style=\"text-align: right;\">\n      <th></th>\n      <th>1A</th>\n      <th>1B</th>\n      <th>2A</th>\n      <th>2B</th>\n      <th>3A</th>\n      <th>3B</th>\n      <th>4A</th>\n      <th>4B</th>\n      <th>5A</th>\n      <th>5B</th>\n    </tr>\n    <tr>\n      <th>Date</th>\n      <th></th>\n      <th></th>\n      <th></th>\n      <th></th>\n      <th></th>\n      <th></th>\n      <th></th>\n      <th></th>\n      <th></th>\n      <th></th>\n    </tr>\n  </thead>\n  <tbody>\n    <tr>\n      <th>2023-11-11</th>\n      <td>5580.8</td>\n      <td>98862.5</td>\n      <td>130.8</td>\n      <td>103344.6</td>\n      <td>56628.0</td>\n      <td>0.0</td>\n      <td>92180.4</td>\n      <td>3488.0</td>\n      <td>0.0</td>\n      <td>38025.6</td>\n    </tr>\n    <tr>\n      <th>2023-11-12</th>\n      <td>0.0</td>\n      <td>111675.0</td>\n      <td>0.0</td>\n      <td>109691.4</td>\n      <td>59488.0</td>\n      <td>0.0</td>\n      <td>101300.4</td>\n      <td>0.0</td>\n      <td>0.0</td>\n      <td>40617.6</td>\n    </tr>\n    <tr>\n      <th>2023-11-13</th>\n      <td>0.0</td>\n      <td>107600.0</td>\n      <td>0.0</td>\n      <td>104943.6</td>\n      <td>56589.0</td>\n      <td>174.4</td>\n      <td>97458.6</td>\n      <td>0.0</td>\n      <td>0.0</td>\n      <td>39168.0</td>\n    </tr>\n    <tr>\n      <th>2023-11-14</th>\n      <td>0.0</td>\n      <td>100062.5</td>\n      <td>0.0</td>\n      <td>97674.3</td>\n      <td>54899.0</td>\n      <td>0.0</td>\n      <td>90003.0</td>\n      <td>0.0</td>\n      <td>0.0</td>\n      <td>33494.4</td>\n    </tr>\n    <tr>\n      <th>2023-11-15</th>\n      <td>0.0</td>\n      <td>101075.0</td>\n      <td>0.0</td>\n      <td>99211.8</td>\n      <td>47593.0</td>\n      <td>0.0</td>\n      <td>91154.4</td>\n      <td>0.0</td>\n      <td>0.0</td>\n      <td>41001.6</td>\n    </tr>\n    <tr>\n      <th>2023-11-16</th>\n      <td>0.0</td>\n      <td>100362.5</td>\n      <td>0.0</td>\n      <td>98043.3</td>\n      <td>50700.0</td>\n      <td>0.0</td>\n      <td>91086.0</td>\n      <td>0.0</td>\n      <td>0.0</td>\n      <td>38102.4</td>\n    </tr>\n    <tr>\n      <th>2023-11-17</th>\n      <td>42466.4</td>\n      <td>40662.5</td>\n      <td>38891.2</td>\n      <td>34513.8</td>\n      <td>13260.0</td>\n      <td>47916.4</td>\n      <td>50787.0</td>\n      <td>28579.8</td>\n      <td>44166.8</td>\n      <td>18163.2</td>\n    </tr>\n    <tr>\n      <th>2023-11-18</th>\n      <td>0.0</td>\n      <td>87675.0</td>\n      <td>4673.6</td>\n      <td>71351.4</td>\n      <td>67710.8</td>\n      <td>4708.5</td>\n      <td>77736.6</td>\n      <td>0.0</td>\n      <td>3149.4</td>\n      <td>67972.4</td>\n    </tr>\n    <tr>\n      <th>2023-11-19</th>\n      <td>0.0</td>\n      <td>96175.0</td>\n      <td>9232.9</td>\n      <td>74948.4</td>\n      <td>72027.2</td>\n      <td>9120.3</td>\n      <td>85990.2</td>\n      <td>0.0</td>\n      <td>6351.0</td>\n      <td>72005.4</td>\n    </tr>\n    <tr>\n      <th>2023-11-20</th>\n      <td>0.0</td>\n      <td>85712.5</td>\n      <td>2425.7</td>\n      <td>71307.8</td>\n      <td>66991.4</td>\n      <td>3018.6</td>\n      <td>75707.4</td>\n      <td>0.0</td>\n      <td>2044.5</td>\n      <td>67187.6</td>\n    </tr>\n    <tr>\n      <th>2023-11-21</th>\n      <td>0.0</td>\n      <td>81987.5</td>\n      <td>66032.2</td>\n      <td>4723.2</td>\n      <td>62042.8</td>\n      <td>4940.7</td>\n      <td>72412.8</td>\n      <td>0.0</td>\n      <td>3349.5</td>\n      <td>62282.6</td>\n    </tr>\n    <tr>\n      <th>2023-11-22</th>\n      <td>0.0</td>\n      <td>91100.0</td>\n      <td>71111.6</td>\n      <td>8204.1</td>\n      <td>67689.0</td>\n      <td>8643.0</td>\n      <td>80985.6</td>\n      <td>0.0</td>\n      <td>5846.4</td>\n      <td>67667.2</td>\n    </tr>\n    <tr>\n      <th>2023-11-23</th>\n      <td>0.0</td>\n      <td>99487.5</td>\n      <td>81030.6</td>\n      <td>6248.4</td>\n      <td>83167.0</td>\n      <td>270.9</td>\n      <td>89524.2</td>\n      <td>0.0</td>\n      <td>4445.7</td>\n      <td>78741.6</td>\n    </tr>\n    <tr>\n      <th>2023-11-24</th>\n      <td>0.0</td>\n      <td>89562.5</td>\n      <td>9321.8</td>\n      <td>69345.8</td>\n      <td>66795.2</td>\n      <td>9507.3</td>\n      <td>80164.8</td>\n      <td>0.0</td>\n      <td>66947.8</td>\n      <td>7027.2</td>\n    </tr>\n    <tr>\n      <th>2023-11-25</th>\n      <td>0.0</td>\n      <td>90525.0</td>\n      <td>11391.9</td>\n      <td>68343.0</td>\n      <td>65509.0</td>\n      <td>11713.2</td>\n      <td>81042.6</td>\n      <td>0.0</td>\n      <td>65705.2</td>\n      <td>8659.2</td>\n    </tr>\n    <tr>\n      <th>2023-11-26</th>\n      <td>0.0</td>\n      <td>99437.5</td>\n      <td>62653.2</td>\n      <td>26580.3</td>\n      <td>61258.0</td>\n      <td>27167.4</td>\n      <td>89843.4</td>\n      <td>0.0</td>\n      <td>60647.6</td>\n      <td>20937.6</td>\n    </tr>\n    <tr>\n      <th>2023-11-27</th>\n      <td>0.0</td>\n      <td>90675.0</td>\n      <td>55851.6</td>\n      <td>25362.6</td>\n      <td>52930.4</td>\n      <td>26457.9</td>\n      <td>81042.6</td>\n      <td>0.0</td>\n      <td>52908.6</td>\n      <td>19833.6</td>\n    </tr>\n    <tr>\n      <th>2023-11-28</th>\n      <td>0.0</td>\n      <td>83512.5</td>\n      <td>54042.2</td>\n      <td>20110.5</td>\n      <td>50837.6</td>\n      <td>20910.9</td>\n      <td>74179.8</td>\n      <td>0.0</td>\n      <td>50903.0</td>\n      <td>15648.0</td>\n    </tr>\n    <tr>\n      <th>2023-11-29</th>\n      <td>0.0</td>\n      <td>85512.5</td>\n      <td>57225.0</td>\n      <td>18622.2</td>\n      <td>54478.2</td>\n      <td>19350.0</td>\n      <td>76209.0</td>\n      <td>0.0</td>\n      <td>54434.6</td>\n      <td>14611.2</td>\n    </tr>\n    <tr>\n      <th>2023-11-30</th>\n      <td>0.0</td>\n      <td>84825.0</td>\n      <td>11811.0</td>\n      <td>62805.8</td>\n      <td>58598.4</td>\n      <td>13377.3</td>\n      <td>75308.4</td>\n      <td>0.0</td>\n      <td>58685.6</td>\n      <td>9974.4</td>\n    </tr>\n    <tr>\n      <th>2023-12-01</th>\n      <td>1242.6</td>\n      <td>48512.5</td>\n      <td>36423.6</td>\n      <td>57159.6</td>\n      <td>55982.4</td>\n      <td>35874.9</td>\n      <td>42100.2</td>\n      <td>2964.8</td>\n      <td>55088.6</td>\n      <td>27734.4</td>\n    </tr>\n    <tr>\n      <th>2023-12-02</th>\n      <td>0.0</td>\n      <td>46775.0</td>\n      <td>27063.7</td>\n      <td>80529.2</td>\n      <td>80180.4</td>\n      <td>26083.8</td>\n      <td>42784.2</td>\n      <td>0.0</td>\n      <td>79657.2</td>\n      <td>20476.8</td>\n    </tr>\n    <tr>\n      <th>2023-12-03</th>\n      <td>0.0</td>\n      <td>51575.0</td>\n      <td>6019.8</td>\n      <td>90339.2</td>\n      <td>7059.0</td>\n      <td>88878.6</td>\n      <td>47025.0</td>\n      <td>0.0</td>\n      <td>89816.0</td>\n      <td>4694.4</td>\n    </tr>\n    <tr>\n      <th>2023-12-04</th>\n      <td>0.0</td>\n      <td>50250.0</td>\n      <td>15227.3</td>\n      <td>85085.4</td>\n      <td>81619.2</td>\n      <td>16963.5</td>\n      <td>58311.0</td>\n      <td>0.0</td>\n      <td>84148.0</td>\n      <td>11155.2</td>\n    </tr>\n  </tbody>\n</table>\n</div>"
     },
     "execution_count": 65,
     "metadata": {},
     "output_type": "execute_result"
    }
   ],
   "source": [
    "df"
   ],
   "metadata": {
    "collapsed": false,
    "ExecuteTime": {
     "end_time": "2023-12-12T22:50:01.357254Z",
     "start_time": "2023-12-12T22:50:01.314958700Z"
    }
   },
   "id": "ca172fa3eac4dcbc"
  },
  {
   "cell_type": "code",
   "execution_count": null,
   "outputs": [],
   "source": [],
   "metadata": {
    "collapsed": false
   },
   "id": "e1d41f3ba6aa1e2d"
  }
 ],
 "metadata": {
  "kernelspec": {
   "display_name": "Python 3",
   "language": "python",
   "name": "python3"
  },
  "language_info": {
   "codemirror_mode": {
    "name": "ipython",
    "version": 2
   },
   "file_extension": ".py",
   "mimetype": "text/x-python",
   "name": "python",
   "nbconvert_exporter": "python",
   "pygments_lexer": "ipython2",
   "version": "2.7.6"
  }
 },
 "nbformat": 4,
 "nbformat_minor": 5
}
