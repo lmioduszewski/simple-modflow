{
 "cells": [
  {
   "cell_type": "code",
   "execution_count": 1,
   "outputs": [],
   "source": [
    "from pathlib import Path\n",
    "import flopy\n",
    "from simple_modflow.mf6.voronoiplus import VoronoiGridPlus as Vor\n",
    "from simple_modflow.mf6.voronoiplus import TriangleGrid as Triangle\n",
    "from simple_modflow.mf6.boundaries import Boundaries\n",
    "import numpy as np\n",
    "from shapely import Polygon\n",
    "from simple_modflow.mf6.headsplus import HeadsPlus as hp\n",
    "import shapely as shp\n",
    "from simple_modflow.mf6 import mfsimbase as mf"
   ],
   "metadata": {
    "collapsed": false,
    "ExecuteTime": {
     "end_time": "2024-05-02T06:45:48.665465200Z",
     "start_time": "2024-05-02T06:45:46.085240Z"
    }
   },
   "id": "13285569e1d018c6"
  },
  {
   "cell_type": "code",
   "execution_count": 2,
   "outputs": [],
   "source": [
    "\"\"\"Example simple model\"\"\"\n",
    "tri = Triangle(\n",
    "    model_ws=Path.cwd(),\n",
    "    angle=30\n",
    ")\n",
    "tri.add_circle(radius=100, center_coords=(50, 200), )\n",
    "tri.add_circle(radius=5, center_coords=(50, 200), )\n",
    "tri.add_circle(radius=5, center_coords=(50, 150), )\n",
    "tri.add_regions(((50, 150), (0, 200)),\n",
    "                maximum_areas=(0.5, 10))\n",
    "tri.model_ws = Path.cwd().joinpath('sample_model_output')\n",
    "tri.build()"
   ],
   "metadata": {
    "collapsed": false,
    "ExecuteTime": {
     "end_time": "2024-05-02T06:45:50.397130400Z",
     "start_time": "2024-05-02T06:45:50.250741400Z"
    }
   },
   "id": "a5a314a657112b64"
  },
  {
   "cell_type": "code",
   "execution_count": 3,
   "outputs": [
    {
     "name": "stdout",
     "output_type": "stream",
     "text": [
      "VoronoiGrid initialized.\n",
      "Getting SciPy voronoi grid\n",
      "Got SciPy voronoi grid\n",
      "getting lats and lons\n",
      "got lats and lons\n"
     ]
    }
   ],
   "source": [
    "\n",
    "# get bottom elevs\n",
    "strike = 30  # Strike given in degrees from north\n",
    "dip = 20  # Dip given in degrees from horizontal\n",
    "known_point = (50, 200, 0)  # Known point (x, y, elevation)\n",
    "pixel_size = 1  # Pixel size\n",
    "bottom_raster_path = Path.cwd().joinpath('sample_model_output', 'bottom_raster.tif')\n",
    "top_raster_path = Path.cwd().joinpath('sample_model_output', 'top_raster.tif')\n",
    "vor = Vor(tri)"
   ],
   "metadata": {
    "collapsed": false,
    "ExecuteTime": {
     "end_time": "2024-05-02T06:45:53.611346700Z",
     "start_time": "2024-05-02T06:45:51.622300500Z"
    }
   },
   "id": "ff2d63f276928085"
  },
  {
   "cell_type": "code",
   "execution_count": 5,
   "outputs": [],
   "source": [
    "fig = vor.plot_choropleth()\n",
    "fig.show()"
   ],
   "metadata": {
    "collapsed": false,
    "ExecuteTime": {
     "end_time": "2024-05-02T06:47:19.097035600Z",
     "start_time": "2024-05-02T06:47:18.202907300Z"
    }
   },
   "id": "7906062bb9e3eebc"
  },
  {
   "cell_type": "code",
   "execution_count": null,
   "outputs": [],
   "source": [
    "\n",
    "\n",
    "bottom_elevs = vor.get_raster_from_strike_dip(strike, dip, known_point, pixel_size, bottom_raster_path)\n",
    "top_elevs = vor.get_raster_from_strike_dip(0, 0, (0,0,50), 1, top_raster_path)\n",
    "vor = Vor(tri, rasters=[bottom_raster_path, top_raster_path])\n",
    "nper = 31\n",
    "center_cells = [32, 33, 34, 35, 36, 37, 38, 39, 40, 41, 42, 43, 44, 45, 46, 47, 48, 49, 50, 51, 52, 53, 54, 55, 56,\n",
    "                57, 58, 59, 60, 61, 62, 63, 98, 123, 124, 163, 164, 165, 193, 194, 195, 196, 210, 211, 212, 213,\n",
    "                234, 235, 236, 314, 337, 374, 375, 388, 392]\n",
    "rch_trans = [np.random.random() + 4 for per in range(nper)]\n",
    "rch_dict = {}\n",
    "for per in range(nper):\n",
    "    cell_list = []\n",
    "    for cell in range(vor.ncpl):\n",
    "        if cell in center_cells:\n",
    "            cell_list.append([cell, rch_trans[per]])\n",
    "        else:\n",
    "            cell_list.append([cell, 0.01])\n",
    "\n",
    "    rch_dict[per] = cell_list\n",
    "model = SimpleModel(\n",
    "    vor,\n",
    "    k=5,\n",
    "    #bottom=bottom_elevs['elev'].to_list(),\n",
    "    #top=50,\n",
    "    nper=nper,\n",
    "    rch_dict=rch_dict\n",
    ")\n",
    "model.run_simulation()\n",
    "hds = hp(hds_path=model.model_output_folder_path.joinpath('mf6_model.hds'), vor=vor)\n",
    "hds.plot_choropleth((19, 0), zoom=19, plot_mounding=True).show()"
   ],
   "metadata": {
    "collapsed": false
   },
   "id": "8cad61b420365283"
  }
 ],
 "metadata": {
  "kernelspec": {
   "display_name": "Python 3",
   "language": "python",
   "name": "python3"
  },
  "language_info": {
   "codemirror_mode": {
    "name": "ipython",
    "version": 2
   },
   "file_extension": ".py",
   "mimetype": "text/x-python",
   "name": "python",
   "nbconvert_exporter": "python",
   "pygments_lexer": "ipython2",
   "version": "2.7.6"
  }
 },
 "nbformat": 4,
 "nbformat_minor": 5
}
