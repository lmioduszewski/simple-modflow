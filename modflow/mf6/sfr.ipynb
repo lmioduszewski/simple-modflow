{
 "cells": [
  {
   "cell_type": "code",
   "execution_count": 5,
   "outputs": [],
   "source": [
    "import pandas as pd\n",
    "import geopandas as gpd\n",
    "from simple_modflow.modflow.mf6.voronoiplus import VoronoiGridPlus as Vor\n",
    "from pathlib import Path\n",
    "import shapely as shp\n",
    "import pickle\n",
    "\n",
    "class SFR:\n",
    "\n",
    "    def __init__(\n",
    "            self,\n",
    "            vor: Vor = None,\n",
    "            stream_path: Path = None\n",
    "    ):\n",
    "        self.vor = vor\n",
    "        self.stream_path = stream_path\n",
    "        self.stream_gdf = gpd.read_file(stream_path)\n",
    "        self.stream_geom = self.stream_gdf.geometry\n",
    "        self.stream_points = {}\n",
    "        self.vor_intersect = {}\n",
    "\n",
    "        for i, geom in enumerate(self.stream_geom):\n",
    "            x, y = geom.coords.xy\n",
    "            self.stream_points[i] = [shp.Point(point) for point in list(zip(x,y))]\n",
    "            self.vor_intersect[i] = vor.get_vor_cells_as_series(geom)"
   ],
   "metadata": {
    "collapsed": false,
    "ExecuteTime": {
     "end_time": "2024-05-22T06:41:26.074679900Z",
     "start_time": "2024-05-22T06:41:26.063141600Z"
    }
   },
   "id": "9b7b3aa4b791dea"
  },
  {
   "cell_type": "code",
   "execution_count": 1,
   "outputs": [],
   "source": [
    "from sfr import SFR\n",
    "from pathlib import Path\n",
    "import pickle\n",
    "from simple_modflow.modflow.mf6.voronoiplus import VoronoiGridPlus as Vor\n",
    "import figs as f\n",
    "import pandas as pd"
   ],
   "metadata": {
    "collapsed": false,
    "ExecuteTime": {
     "end_time": "2024-05-23T06:15:27.376545600Z",
     "start_time": "2024-05-23T06:15:24.900665Z"
    }
   },
   "id": "ca5b5bbeba828bc3"
  },
  {
   "cell_type": "code",
   "execution_count": 2,
   "outputs": [],
   "source": [
    "vor_path = Path(r'C:\\Users\\lukem\\Python\\MODFLOW\\LakePointe\\new_vor_lakepointe.vor')\n",
    "with open(vor_path, 'rb') as file:\n",
    "    vor: Vor = pickle.load(file)"
   ],
   "metadata": {
    "collapsed": false,
    "ExecuteTime": {
     "end_time": "2024-05-23T06:15:28.704657800Z",
     "start_time": "2024-05-23T06:15:27.884385900Z"
    }
   },
   "id": "ea81640962f8023a"
  },
  {
   "cell_type": "code",
   "execution_count": null,
   "outputs": [
    {
     "name": "stdout",
     "output_type": "stream",
     "text": [
      "initing sfr\n",
      "Getting geometry and intersect lists 0\n",
      "vor_intersect has len 1\n",
      "adding lists together 0\n"
     ]
    }
   ],
   "source": [
    "input_path = Path(r'C:\\Users\\lukem\\Python\\MODFLOW\\LakePointe\\inputs')\n",
    "stream = input_path / r'shp\\rivers and streams\\jenkins.shp'\n",
    "sfr = SFR(vor=vor, stream_path=stream)"
   ],
   "metadata": {
    "collapsed": false,
    "is_executing": true,
    "ExecuteTime": {
     "start_time": "2024-05-23T06:15:29.118987500Z"
    }
   },
   "id": "d79617ca64a77d30"
  },
  {
   "cell_type": "code",
   "execution_count": 7,
   "outputs": [
    {
     "data": {
      "text/plain": "[[1, -2],\n [2, -3],\n [3, -4],\n [4, -5],\n [5, -6],\n [6, -7],\n [7, -8],\n [8, -9],\n [9, -10],\n [10, -11],\n [11, -12],\n [12, -13],\n [13, -14],\n [14, -15],\n [15, -16],\n [16, -17],\n [17, -18],\n [18, -19],\n [19, -20],\n [20, -21],\n [21, -22],\n [22, -23],\n [23, -24],\n [24, -25],\n [25, -26],\n [26, -27],\n [27, -28],\n [28, -29],\n [29, -30],\n [30, -31],\n [31, -32],\n [32, -33],\n [33, -34],\n [34, -35],\n [35, -36],\n [36, -37],\n [37, -38],\n [38, -39],\n [39, -40],\n [40, -41],\n [41, -42],\n [42, -43],\n [43, -44],\n [44, -45],\n [45, -46],\n [46, -47],\n [47, -48],\n [48, -49],\n [49, -50],\n [50, -51],\n [51, -52],\n [52, -53],\n [53, -54],\n [54, -55],\n [55, -56],\n [56, -57],\n [57, -58],\n [58, -59],\n [59, -60],\n [60, -61],\n [61, -62],\n [62, -63],\n [63, -64],\n [64, -65],\n [65, -66],\n [66, -67],\n [67, -68],\n [68, -69],\n [69, -70],\n [70, -71],\n [71, -72],\n [72, -73],\n [73, -74],\n [74, -75],\n [75, -76],\n [76, -77],\n [77, -78],\n [78, -79],\n [79, -80],\n [80, -81],\n [81, -82],\n [82, -83],\n [83, -84],\n [84, -85],\n [85, -86],\n [86, -87],\n [87, -88],\n [88, -89],\n [89, -90],\n [90, -91],\n [91, -92],\n [92, -93],\n [93, -94],\n [94, -95],\n [95, -96],\n [96, -97],\n [97, -98],\n [98, -99],\n [99, -100],\n [100, -101],\n [101, -102],\n [102, -103],\n [103, -104],\n [104, -105],\n [105, -106],\n [106, -107],\n [107, -108],\n [108, -109],\n [109, -110],\n [110, -111],\n [111, -112],\n [112, -113],\n [113, -114],\n [114, -115],\n [115, -116],\n [116, -117],\n [117, -118],\n [118, -119],\n [119, -120],\n [120, -121],\n [121, -122],\n [122, -123],\n [123, -124],\n [124, -125],\n [125, -126],\n [126, -127],\n [127, -128],\n [128, -129],\n [129, -130],\n [130, -131],\n [131, -132],\n [132, -133],\n [133, -134],\n [134, -135],\n [135, -136],\n [136, -137],\n [137, -138],\n [138, -139],\n [139, -140],\n [140, -141],\n [141, -142],\n [142, -143],\n [143, -144],\n [144, -145],\n [145, -146],\n [146, -147],\n [147, -148],\n [148, -149],\n [149, -150],\n [150, -151],\n [151, -152],\n [152, -153],\n [153, -154],\n [154, -155],\n [155, -156],\n [156, -157],\n [157, -158],\n [158, -159],\n [159, -160],\n [160, -161],\n [161, -162],\n [162, -163],\n [163, -164],\n [164, -165],\n [165, -166],\n [166, -167],\n [167, -168],\n [168, -169],\n [169, -170],\n [170, -171],\n [171, -172],\n [172, -173],\n [173, -174],\n [174, -175],\n [175, -176],\n [176, -177],\n [177, -178],\n [178, -179],\n [179, -180],\n [180, -181],\n [181, -182],\n [182, -183],\n [183, -184],\n [184, -185],\n [185, -186],\n [186, -187],\n [187, -188],\n [188, -189],\n [189, -190],\n [190, -191],\n [191, -192],\n [192, -193],\n [193, -194],\n [194, -195],\n [195, -196],\n [196, -197],\n [197, -198],\n [198, -199],\n [199, -200],\n [200, -201],\n [201, -202],\n [202, -203],\n [203, -204],\n [204, -205],\n [205, -206],\n [206, -207],\n [207, -208],\n [208, -209],\n [209, -210],\n [210, -211],\n [211, -212],\n [212, -213],\n [213, -214],\n [214, -215],\n [215, -216],\n [216, -217],\n [217, -218],\n [218, -219],\n [219, -220],\n [220, -221],\n [221, -222],\n [222, -223],\n [223, -224],\n [224, -225],\n [225, -226],\n [226, -227],\n [227, -228],\n [228, -229],\n [229, -230],\n [230, -231],\n [231, -232],\n [232, -233],\n [233, -234],\n [234, -235],\n [235, -236],\n [236, -237],\n [237, -238],\n [238, -239],\n [239, -240],\n [240, -241],\n [241, -242],\n [242, -243],\n [243, -244],\n [244, -245],\n [245, -246],\n [246, -247],\n [247, -248],\n [248, -249],\n [249, -250],\n [250, -251],\n [251, -252],\n [252, -253],\n [253, -254],\n [254, -255],\n [255, -256],\n [256, -257],\n [257, -258],\n [258, -259],\n [259, -260],\n [260, -261],\n [261, -262],\n [262, -263],\n [263, -264],\n [264, -265],\n [265, -266],\n [266, -267],\n [267, -268],\n [268, -269],\n [269, -270],\n [270, -271],\n [271, -272],\n [272, -273],\n [273, -274],\n [274, -275],\n [275, -276],\n [276, -277],\n [277, -278],\n [278, -279],\n [279, -280],\n [280, -281],\n [281, -282],\n [282, -283],\n [283, 0]]"
     },
     "execution_count": 7,
     "metadata": {},
     "output_type": "execute_result"
    }
   ],
   "source": [
    "cells= sfr.sfr_connection_data(0, True)\n"
   ],
   "metadata": {
    "collapsed": false,
    "ExecuteTime": {
     "end_time": "2024-05-23T05:48:02.702417600Z",
     "start_time": "2024-05-23T05:48:02.609915Z"
    }
   },
   "id": "66907e96b5fb5875"
  },
  {
   "cell_type": "code",
   "execution_count": 6,
   "outputs": [],
   "source": [
    "import pickle\n",
    "with open(Path(r\"C:\\Users\\lukem\\Python\\MODFLOW\\LakePointe\\LakePointe.model\"),'rb') as file:\n",
    "    model = pickle.load(file)"
   ],
   "metadata": {
    "collapsed": false,
    "ExecuteTime": {
     "end_time": "2024-05-22T20:15:12.440869Z",
     "start_time": "2024-05-22T20:15:12.364399500Z"
    }
   },
   "id": "9f4b92bcc55a0479"
  },
  {
   "cell_type": "code",
   "execution_count": 7,
   "outputs": [
    {
     "name": "stderr",
     "output_type": "stream",
     "text": [
      "C:\\Users\\lukem\\AppData\\Local\\Programs\\Python\\Python311\\Lib\\site-packages\\nbformat\\json_compat.py:14: DeprecationWarning:\n",
      "\n",
      "Importing ErrorTree directly from the jsonschema package is deprecated and will become an ImportError. Import it from jsonschema.exceptions instead.\n",
      "\n",
      "C:\\Users\\lukem\\AppData\\Local\\Programs\\Python\\Python311\\Lib\\site-packages\\nbformat\\json_compat.py:14: DeprecationWarning:\n",
      "\n",
      "Importing ErrorTree directly from the jsonschema package is deprecated and will become an ImportError. Import it from jsonschema.exceptions instead.\n",
      "\n"
     ]
    }
   ],
   "source": [
    "stream_cells = vor.gdf_topbtm.loc[cells, :][0].reset_index()\n",
    "fig = f.Fig()\n",
    "fig.add_scattergl(x=cells_df.distance_along_stream.to_list(), y=stream_cells[0])\n",
    "fig.show()"
   ],
   "metadata": {
    "collapsed": false,
    "ExecuteTime": {
     "end_time": "2024-05-23T04:17:14.461982700Z",
     "start_time": "2024-05-23T04:17:13.695980300Z"
    }
   },
   "id": "c90f5014cb53c8ad"
  },
  {
   "cell_type": "code",
   "execution_count": 13,
   "outputs": [],
   "source": [
    "stream_cells = sfr.get_smoothed_reach_elevs(reverse=True)"
   ],
   "metadata": {
    "collapsed": false,
    "ExecuteTime": {
     "end_time": "2024-05-23T04:20:13.475772600Z",
     "start_time": "2024-05-23T04:20:12.949261Z"
    }
   },
   "id": "a92c2e2f71306811"
  },
  {
   "cell_type": "code",
   "execution_count": 19,
   "outputs": [],
   "source": [
    "stream_cell_keys = list(stream_cells.keys())\n",
    "fig =f.Fig()\n",
    "fig.add_scattergl(x=cells_df.distance_along_stream.to_list(), y=list(stream_cells.values()))\n",
    "fig.show()"
   ],
   "metadata": {
    "collapsed": false,
    "ExecuteTime": {
     "end_time": "2024-05-23T04:21:48.262374200Z",
     "start_time": "2024-05-23T04:21:47.926786200Z"
    }
   },
   "id": "1c5251ebe6eb4615"
  },
  {
   "cell_type": "code",
   "execution_count": null,
   "outputs": [],
   "source": [],
   "metadata": {
    "collapsed": false
   },
   "id": "6b7e84586f31de24"
  }
 ],
 "metadata": {
  "kernelspec": {
   "display_name": "Python 3",
   "language": "python",
   "name": "python3"
  },
  "language_info": {
   "codemirror_mode": {
    "name": "ipython",
    "version": 2
   },
   "file_extension": ".py",
   "mimetype": "text/x-python",
   "name": "python",
   "nbconvert_exporter": "python",
   "pygments_lexer": "ipython2",
   "version": "2.7.6"
  }
 },
 "nbformat": 4,
 "nbformat_minor": 5
}
