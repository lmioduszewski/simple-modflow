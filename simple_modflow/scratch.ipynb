{
 "cells": [
  {
   "cell_type": "code",
   "execution_count": 8,
   "outputs": [
    {
     "ename": "ModuleNotFoundError",
     "evalue": "No module named 'voronoiplus'",
     "output_type": "error",
     "traceback": [
      "\u001B[1;31m---------------------------------------------------------------------------\u001B[0m",
      "\u001B[1;31mModuleNotFoundError\u001B[0m                       Traceback (most recent call last)",
      "Cell \u001B[1;32mIn[8], line 7\u001B[0m\n\u001B[0;32m      5\u001B[0m \u001B[38;5;28;01mfrom\u001B[39;00m \u001B[38;5;21;01mmf6\u001B[39;00m\u001B[38;5;21;01m.\u001B[39;00m\u001B[38;5;21;01mvoronoiplus\u001B[39;00m \u001B[38;5;28;01mimport\u001B[39;00m VoronoiGridPlus \u001B[38;5;28;01mas\u001B[39;00m Vor\n\u001B[0;32m      6\u001B[0m \u001B[38;5;28;01mfrom\u001B[39;00m \u001B[38;5;21;01mpathlib\u001B[39;00m \u001B[38;5;28;01mimport\u001B[39;00m Path\n\u001B[1;32m----> 7\u001B[0m \u001B[38;5;28;01mfrom\u001B[39;00m \u001B[38;5;21;01mmf6\u001B[39;00m\u001B[38;5;21;01m.\u001B[39;00m\u001B[38;5;21;01msimplemodel\u001B[39;00m \u001B[38;5;28;01mimport\u001B[39;00m SimpleModel\n\u001B[0;32m      8\u001B[0m \u001B[38;5;28;01mfrom\u001B[39;00m \u001B[38;5;21;01mmf6\u001B[39;00m\u001B[38;5;21;01m.\u001B[39;00m\u001B[38;5;21;01mheadsplus\u001B[39;00m \u001B[38;5;28;01mimport\u001B[39;00m HeadsPlus \u001B[38;5;28;01mas\u001B[39;00m hp\n\u001B[0;32m      9\u001B[0m \u001B[38;5;28;01mimport\u001B[39;00m \u001B[38;5;21;01mmf6\u001B[39;00m\u001B[38;5;21;01m.\u001B[39;00m\u001B[38;5;21;01mmfsimbase\u001B[39;00m \u001B[38;5;28;01mas\u001B[39;00m \u001B[38;5;21;01mmf\u001B[39;00m\n",
      "File \u001B[1;32m~\\simple-modflow\\simple_modflow\\mf6\\simplemodel.py:3\u001B[0m\n\u001B[0;32m      1\u001B[0m \u001B[38;5;28;01mfrom\u001B[39;00m \u001B[38;5;21;01mpathlib\u001B[39;00m \u001B[38;5;28;01mimport\u001B[39;00m Path\n\u001B[0;32m      2\u001B[0m \u001B[38;5;28;01mimport\u001B[39;00m \u001B[38;5;21;01mflopy\u001B[39;00m\n\u001B[1;32m----> 3\u001B[0m \u001B[38;5;28;01mfrom\u001B[39;00m \u001B[38;5;21;01mvoronoiplus\u001B[39;00m \u001B[38;5;28;01mimport\u001B[39;00m VoronoiGridPlus \u001B[38;5;28;01mas\u001B[39;00m Vor\n\u001B[0;32m      4\u001B[0m \u001B[38;5;28;01mfrom\u001B[39;00m \u001B[38;5;21;01mvoronoiplus\u001B[39;00m \u001B[38;5;28;01mimport\u001B[39;00m TriangleGrid \u001B[38;5;28;01mas\u001B[39;00m Triangle\n\u001B[0;32m      5\u001B[0m \u001B[38;5;28;01mfrom\u001B[39;00m \u001B[38;5;21;01mboundaries\u001B[39;00m \u001B[38;5;28;01mimport\u001B[39;00m Boundaries\n",
      "\u001B[1;31mModuleNotFoundError\u001B[0m: No module named 'voronoiplus'"
     ]
    }
   ],
   "source": [
    "import numpy as np\n",
    "from tempfile import TemporaryDirectory\n",
    "from mf6.voronoiplus import TriangleGrid as Triangle\n",
    "from shapely import Polygon\n",
    "from mf6.voronoiplus import VoronoiGridPlus as Vor\n",
    "from pathlib import Path\n",
    "from mf6.simplemodel import SimpleModel\n",
    "from mf6.headsplus import HeadsPlus as hp\n",
    "import mf6.mfsimbase as mf\n",
    "import shapely as shp"
   ],
   "metadata": {
    "collapsed": false,
    "ExecuteTime": {
     "end_time": "2023-11-11T00:34:41.979949500Z",
     "start_time": "2023-11-11T00:34:41.944365700Z"
    }
   },
   "id": "cfda9939589189e"
  },
  {
   "cell_type": "code",
   "execution_count": 13,
   "outputs": [
    {
     "data": {
      "text/plain": "[1.0, 2.0, 3.0, 4.0, 5.0]"
     },
     "execution_count": 13,
     "metadata": {},
     "output_type": "execute_result"
    }
   ],
   "source": [
    "np.linspace(1,5,5\n",
    "            ).tolist()"
   ],
   "metadata": {
    "collapsed": false,
    "ExecuteTime": {
     "end_time": "2023-11-11T00:48:17.156135800Z",
     "start_time": "2023-11-11T00:48:17.130929900Z"
    }
   },
   "id": "8819397d9d5708e6"
  },
  {
   "cell_type": "code",
   "execution_count": 4,
   "outputs": [
    {
     "name": "stdout",
     "output_type": "stream",
     "text": [
      "VoronoiGrid initialized.\n",
      "VoronoiGrid initialized.\n"
     ]
    },
    {
     "ename": "NameError",
     "evalue": "name 'SimpleModel' is not defined",
     "output_type": "error",
     "traceback": [
      "\u001B[1;31m---------------------------------------------------------------------------\u001B[0m",
      "\u001B[1;31mNameError\u001B[0m                                 Traceback (most recent call last)",
      "Cell \u001B[1;32mIn[4], line 31\u001B[0m\n\u001B[0;32m     29\u001B[0m \u001B[38;5;28;01mfor\u001B[39;00m per \u001B[38;5;129;01min\u001B[39;00m \u001B[38;5;28mrange\u001B[39m(nper):\n\u001B[0;32m     30\u001B[0m     rch_dict[per] \u001B[38;5;241m=\u001B[39m [[cell, rch_trans[per]] \u001B[38;5;28;01mfor\u001B[39;00m cell \u001B[38;5;129;01min\u001B[39;00m center_cells]\n\u001B[1;32m---> 31\u001B[0m model \u001B[38;5;241m=\u001B[39m \u001B[43mSimpleModel\u001B[49m(\n\u001B[0;32m     32\u001B[0m     vor,\n\u001B[0;32m     33\u001B[0m     \u001B[38;5;66;03m#bottom=bottom_elevs['elev'].to_list(),\u001B[39;00m\n\u001B[0;32m     34\u001B[0m     top\u001B[38;5;241m=\u001B[39m\u001B[38;5;241m50\u001B[39m,\n\u001B[0;32m     35\u001B[0m     nper\u001B[38;5;241m=\u001B[39mnper,\n\u001B[0;32m     36\u001B[0m     rch_dict\u001B[38;5;241m=\u001B[39mrch_dict\n\u001B[0;32m     37\u001B[0m )\n\u001B[0;32m     38\u001B[0m model\u001B[38;5;241m.\u001B[39mrun_simulation()\n\u001B[0;32m     39\u001B[0m hds \u001B[38;5;241m=\u001B[39m hp(hds_path\u001B[38;5;241m=\u001B[39mmodel\u001B[38;5;241m.\u001B[39mmodel_output_folder_path\u001B[38;5;241m.\u001B[39mjoinpath(\u001B[38;5;124m'\u001B[39m\u001B[38;5;124mmf6_model.hds\u001B[39m\u001B[38;5;124m'\u001B[39m), vor\u001B[38;5;241m=\u001B[39mvor)\n",
      "\u001B[1;31mNameError\u001B[0m: name 'SimpleModel' is not defined"
     ]
    }
   ],
   "source": [
    "\"\"\"Example simple model\"\"\"\n",
    "tri = Triangle(\n",
    "    model_ws=Path.cwd(),\n",
    "    angle=30\n",
    ")\n",
    "tri.add_circle(radius=100, center_coords=(50, 200), )\n",
    "tri.add_circle(radius=5, center_coords=(50, 200), )\n",
    "tri.add_circle(radius=5, center_coords=(50, 150), )\n",
    "tri.add_regions(((50, 150), (0, 200)),\n",
    "                maximum_areas=(0.5, 10))\n",
    "tri.build()\n",
    "# get bottom elevs\n",
    "strike = 30  # Strike given in degrees from north\n",
    "dip = 20  # Dip given in degrees from horizontal\n",
    "known_point = (50, 200, 0)  # Known point (x, y, elevation)\n",
    "pixel_size = 1  # Pixel size\n",
    "bottom_raster_path = Path.cwd().joinpath('bottom_raster.tif')\n",
    "top_raster_path = Path.cwd().joinpath('top_raster.tif')\n",
    "vor = Vor(tri)\n",
    "bottom_elevs = vor.get_raster_from_strike_dip(strike, dip, known_point, pixel_size, bottom_raster_path)\n",
    "top_elevs = vor.get_raster_from_strike_dip(0, 0, (0,0,50), 1, top_raster_path)\n",
    "vor = Vor(tri, rasters=[bottom_raster_path, top_raster_path])\n",
    "nper = 31\n",
    "center_cells = [32, 33, 34, 35, 36, 37, 38, 39, 40, 41, 42, 43, 44, 45, 46, 47, 48, 49, 50, 51, 52, 53, 54, 55, 56,\n",
    "                57, 58, 59, 60, 61, 62, 63, 98, 123, 124, 163, 164, 165, 193, 194, 195, 196, 210, 211, 212, 213,\n",
    "                234, 235, 236, 314, 337, 374, 375, 388, 392]\n",
    "rch_trans = [np.random.random() * 20 for per in range(nper)]\n",
    "rch_dict = {}\n",
    "for per in range(nper):\n",
    "    rch_dict[per] = [[cell, rch_trans[per]] for cell in center_cells]\n",
    "model = SimpleModel(\n",
    "    vor,\n",
    "    #bottom=bottom_elevs['elev'].to_list(),\n",
    "    top=50,\n",
    "    nper=nper,\n",
    "    rch_dict=rch_dict\n",
    ")\n",
    "model.run_simulation()\n",
    "hds = hp(hds_path=model.model_output_folder_path.joinpath('mf6_model.hds'), vor=vor)\n"
   ],
   "metadata": {
    "collapsed": false,
    "ExecuteTime": {
     "end_time": "2023-11-11T00:33:33.607579400Z",
     "start_time": "2023-11-11T00:33:30.851283200Z"
    }
   },
   "id": "721874049feb97be"
  },
  {
   "cell_type": "code",
   "execution_count": 11,
   "outputs": [],
   "source": [
    "for stp_per in hds.kstpkper:\n",
    "    hds.plot_choropleth(stp_per, zoom=19, plot_mounding=True)"
   ],
   "metadata": {
    "collapsed": false,
    "ExecuteTime": {
     "end_time": "2023-11-10T18:07:53.354915200Z",
     "start_time": "2023-11-10T18:07:32.765877800Z"
    }
   },
   "id": "96e719b3a2108f45"
  },
  {
   "cell_type": "code",
   "execution_count": null,
   "outputs": [
    {
     "name": "stdout",
     "output_type": "stream",
     "text": [
      "Dash is running on http://127.0.0.1:8050/\n",
      "\n",
      " * Serving Flask app '__main__' (lazy loading)\n",
      " * Environment: production\n",
      "\u001B[31m   WARNING: This is a development server. Do not use it in a production deployment.\u001B[0m\n",
      "\u001B[2m   Use a production WSGI server instead.\u001B[0m\n",
      " * Debug mode: on\n"
     ]
    }
   ],
   "source": [
    "### ### DASH ### ###\n",
    "### DASH app to store selected cell ids ###\n",
    "\n",
    "import dash\n",
    "from dash import dcc\n",
    "from dash import html, Input, Output\n",
    "import dash_bootstrap_components as dbc\n",
    "\n",
    "app = dash.Dash()\n",
    "app.layout = html.Div(\n",
    "    [\n",
    "        dbc.Row(\n",
    "            dbc.Col(\n",
    "                [\n",
    "                    dcc.Graph(\n",
    "                        figure=vor.plot_choropleth(),\n",
    "                        className=\"flex-grow-1\",\n",
    "                        style={\"height\": \"95vh\"},\n",
    "                        id=\"fig\",\n",
    "                    )\n",
    "                ],\n",
    "                class_name=\"h-100 d-flex flex-column\",\n",
    "                style={\"height\": \"95vh\"},\n",
    "            ),\n",
    "            style={\"height\": \"95vh\"},\n",
    "        ),\n",
    "        dcc.Store(id=\"selected\"),\n",
    "    ],\n",
    "    style={\"height\": \"95vh\"},\n",
    ")\n",
    "\n",
    "\n",
    "@app.callback(\n",
    "    Output(component_id=\"selected\", component_property=\"data\"),\n",
    "    Input(component_id=\"fig\", component_property=\"selectedData\"),\n",
    "    prevent_initial_callbacks=True,\n",
    ")\n",
    "def on_select(selectedData):\n",
    "    selected_cells = []\n",
    "    for cell in selectedData[\"points\"]:\n",
    "        selected_cells.append(int(cell[\"location\"]))\n",
    "        print(selected_cells)\n",
    "    return selected_cells\n",
    "\n",
    "\n",
    "app.run(debug=True, use_reloader=False)  # Turn off reloader if inside Jupyter"
   ],
   "metadata": {
    "collapsed": false,
    "ExecuteTime": {
     "start_time": "2023-11-10T01:41:47.396057600Z"
    }
   },
   "id": "34039364c7da2981"
  },
  {
   "cell_type": "code",
   "execution_count": 15,
   "outputs": [],
   "source": [
    "from budgetplus import BudgetPlus\n",
    "import paths\n",
    "bud = BudgetPlus(cbb_path=model.model_output_folder_path.joinpath('mf6_model.cbc'), vor=vor)"
   ],
   "metadata": {
    "collapsed": false,
    "ExecuteTime": {
     "end_time": "2023-11-09T19:28:34.416807Z",
     "start_time": "2023-11-09T19:28:34.189232400Z"
    }
   },
   "id": "746d42bb62132993"
  },
  {
   "cell_type": "code",
   "execution_count": 25,
   "outputs": [],
   "source": [
    "rch_bud = bud.get_rch_bud()\n",
    "rch_bud = (rch_bud.reset_index(drop=True))"
   ],
   "metadata": {
    "collapsed": false,
    "ExecuteTime": {
     "end_time": "2023-11-09T19:32:54.672598Z",
     "start_time": "2023-11-09T19:32:54.641714600Z"
    }
   },
   "id": "7dc846d4ff068e1b"
  },
  {
   "cell_type": "code",
   "execution_count": 46,
   "outputs": [],
   "source": [
    "rch_sum = rch_bud.loc[:,'q'].dropna().sum()"
   ],
   "metadata": {
    "collapsed": false,
    "ExecuteTime": {
     "end_time": "2023-11-09T19:45:03.352438400Z",
     "start_time": "2023-11-09T19:45:03.337180300Z"
    }
   },
   "id": "31a65a2e59d83c05"
  }
 ],
 "metadata": {
  "kernelspec": {
   "display_name": "Python 3",
   "language": "python",
   "name": "python3"
  },
  "language_info": {
   "codemirror_mode": {
    "name": "ipython",
    "version": 2
   },
   "file_extension": ".py",
   "mimetype": "text/x-python",
   "name": "python",
   "nbconvert_exporter": "python",
   "pygments_lexer": "ipython2",
   "version": "2.7.6"
  }
 },
 "nbformat": 4,
 "nbformat_minor": 5
}
