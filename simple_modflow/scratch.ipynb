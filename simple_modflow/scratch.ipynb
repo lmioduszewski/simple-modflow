{
 "cells": [
  {
   "cell_type": "code",
   "execution_count": 1,
   "outputs": [],
   "source": [
    "import sys\n",
    "from pathlib import Path\n",
    "local_modules_path = str(Path('.').absolute().joinpath('mf6'))\n",
    "\n",
    "sys.path.append(local_modules_path)\n",
    "import numpy as np\n",
    "from tempfile import TemporaryDirectory\n",
    "from mf6.voronoiplus import TriangleGrid as Triangle\n",
    "from shapely import Polygon\n",
    "from mf6.voronoiplus import VoronoiGridPlus as Vor\n",
    "from pathlib import Path\n",
    "from mf6.simplemodel import SimpleModel\n",
    "from mf6.headsplus import HeadsPlus as hp\n",
    "import mf6.mfsimbase as mf\n",
    "import shapely as shp\n",
    "import pickle\n",
    "\n",
    "vor_path = Path.home().joinpath('mf6','mf6_model' , 'vor.vor')"
   ],
   "metadata": {
    "collapsed": false,
    "ExecuteTime": {
     "end_time": "2023-11-18T19:17:06.554290500Z",
     "start_time": "2023-11-18T19:17:04.993077400Z"
    }
   },
   "id": "a45534448562a402"
  },
  {
   "cell_type": "code",
   "execution_count": 2,
   "outputs": [
    {
     "name": "stdout",
     "output_type": "stream",
     "text": [
      "VoronoiGrid initialized.\n",
      "Getting SciPy voronoi grid\n",
      "Got SciPy voronoi grid\n",
      "getting lats and lons\n",
      "got lats and lons\n",
      "getting rasters\n",
      "getting elevations for raster\n",
      "got raster from strike and dip\n",
      "getting elevations for raster\n",
      "got raster from strike and dip\n",
      "got rasters\n",
      "VoronoiGrid initialized.\n",
      "Getting SciPy voronoi grid\n",
      "Got SciPy voronoi grid\n",
      "getting lats and lons\n",
      "got lats and lons\n",
      "ok\n",
      "well done\n"
     ]
    }
   ],
   "source": [
    "\"\"\"Example simple model\"\"\"\n",
    "tri = Triangle(\n",
    "    model_ws=Path.cwd(),\n",
    "    angle=30\n",
    ")\n",
    "model_hull = tri.add_circle(radius=2000, center_coords=(50, 200), )\n",
    "#facility = tri.add_circle(radius=10, center_coords=(50, 150), return_only=True)\n",
    "facility = tri.add_rectangle(return_only=True)\n",
    "\n",
    "outer_buffer = shp.Polygon(facility).buffer(0.5)\n",
    "inner_buffer = shp.Polygon(facility).buffer(-0.5)\n",
    "tri.add_polygon(outer_buffer)\n",
    "tri.add_polygon(inner_buffer)\n",
    "\n",
    "tri.add_regions(((10, 10), (300, 200)),\n",
    "                maximum_areas=(4, 1000))\n",
    "tri.build()\n",
    "# get bottom elevs\n",
    "strike = 30  # Strike given in degrees from north\n",
    "dip = 5  # Dip given in degrees from horizontal\n",
    "known_point = (50, 200, 0)  # Known point (x, y, elevation)\n",
    "pixel_size = 10  # Pixel size\n",
    "bottom_raster_path = Path.cwd().joinpath('bottom_raster.tif')\n",
    "top_raster_path = Path.cwd().joinpath('top_raster.tif')\n",
    "vor = Vor(tri)\n",
    "print('getting rasters')\n",
    "bottom_elevs = vor.get_raster_from_strike_dip(strike, dip, known_point, pixel_size, bottom_raster_path)\n",
    "top_elevs = vor.get_raster_from_strike_dip(0, 0, (0,0,200), 10, top_raster_path)\n",
    "print('got rasters')\n",
    "vor = Vor(tri, rasters=[bottom_raster_path, top_raster_path])\n",
    "nper = 31\n",
    "facility_cells_idxs = vor.get_overlapping_grid_cells(shp.Polygon(facility)).to_list()"
   ],
   "metadata": {
    "collapsed": false,
    "ExecuteTime": {
     "end_time": "2023-11-18T19:14:01.644964600Z",
     "start_time": "2023-11-18T19:13:47.823228100Z"
    }
   },
   "id": "d2c061eb1cbcc6d0"
  },
  {
   "cell_type": "code",
   "execution_count": 3,
   "outputs": [
    {
     "name": "stdout",
     "output_type": "stream",
     "text": [
      "getting nja for disu\n",
      "getting iac for disu\n",
      "getting ja, cl12, and hwva for disu\n",
      "getting cell areas\n",
      "WARNING: Unable to resolve dimension of ('gwf6', 'disu', 'cell2d', 'cell2d', 'icvert') based on shape \"ncvert\".\n"
     ]
    }
   ],
   "source": [
    "\n",
    "rch_trans = [np.random.random() + 4 for per in range(nper)]\n",
    "rch_dict = {}\n",
    "for per in range(nper):\n",
    "    cell_list = []\n",
    "    for cell in range(vor.ncpl):\n",
    "        if cell in facility_cells_idxs:\n",
    "            cell_list.append([cell, rch_trans[per]])\n",
    "        else:\n",
    "            cell_list.append([cell, 0.0001])\n",
    "\n",
    "    rch_dict[per] = cell_list\n",
    "\"\"\"ADD WAY TO CALC CONDUCTANCE FROM K, L, and A\"\"\"\n",
    "model = SimpleModel(\n",
    "    vor,\n",
    "    boundary_conductance=1000,\n",
    "    nper=nper,\n",
    "    rch_dict=rch_dict\n",
    ")\n",
    "\n",
    "\"\"\"save grid to file\"\"\"\n",
    "vor_path = model.model_output_folder_path.joinpath('vor.vor')\n",
    "with open(vor_path, \"wb\") as vor_file:\n",
    "    pickle.dump(vor, vor_file, protocol=pickle.HIGHEST_PROTOCOL)"
   ],
   "metadata": {
    "collapsed": false,
    "ExecuteTime": {
     "end_time": "2023-11-18T19:15:32.229784700Z",
     "start_time": "2023-11-18T19:14:01.588252500Z"
    }
   },
   "id": "3208629249bae5a"
  },
  {
   "cell_type": "code",
   "execution_count": 6,
   "outputs": [],
   "source": [
    "vor.plot_choropleth().show(renderer='browser')"
   ],
   "metadata": {
    "collapsed": false,
    "ExecuteTime": {
     "end_time": "2023-11-18T19:16:02.345594300Z",
     "start_time": "2023-11-18T19:15:59.569042600Z"
    }
   },
   "id": "2b3c5bc9d9c38ff5"
  },
  {
   "cell_type": "code",
   "execution_count": 5,
   "outputs": [],
   "source": [
    "vor.show_selected_cells(facility_cells_idxs).show(renderer='browser')"
   ],
   "metadata": {
    "collapsed": false,
    "ExecuteTime": {
     "end_time": "2023-11-15T19:36:05.388362500Z",
     "start_time": "2023-11-15T19:36:01.123521900Z"
    }
   },
   "id": "ac5560d676fbb3bf"
  },
  {
   "cell_type": "code",
   "execution_count": 0,
   "outputs": [],
   "source": [
    "model.run_simulation()"
   ],
   "metadata": {
    "collapsed": false
   },
   "id": "65ef4a1ee4807ced"
  },
  {
   "cell_type": "code",
   "execution_count": 3,
   "outputs": [],
   "source": [
    "hds = hp(hds_path=Path.home().joinpath('mf6','mf6_model' , 'mf6_model.hds'), vor=vor)"
   ],
   "metadata": {
    "collapsed": false,
    "ExecuteTime": {
     "end_time": "2023-11-18T19:18:43.737035100Z",
     "start_time": "2023-11-18T19:18:43.673420500Z"
    }
   },
   "id": "721874049feb97be"
  },
  {
   "cell_type": "code",
   "execution_count": 4,
   "outputs": [],
   "source": [
    "hds.plot_choropleth(stp_per_to_plot=(19,5), plot_mounding=True)"
   ],
   "metadata": {
    "collapsed": false,
    "ExecuteTime": {
     "end_time": "2023-11-18T19:18:49.169964600Z",
     "start_time": "2023-11-18T19:18:46.381966200Z"
    }
   },
   "id": "96e719b3a2108f45"
  },
  {
   "cell_type": "code",
   "execution_count": null,
   "outputs": [],
   "source": [
    "### ### DASH ### ###\n",
    "### DASH app to store selected cell ids ###\n",
    "\n",
    "import dash\n",
    "from dash import dcc\n",
    "from dash import html, Input, Output\n",
    "import dash_bootstrap_components as dbc\n",
    "\n",
    "app = dash.Dash()\n",
    "app.layout = html.Div(\n",
    "    [\n",
    "        dbc.Row(\n",
    "            dbc.Col(\n",
    "                [\n",
    "                    dcc.Graph(\n",
    "                        figure=vor.plot_choropleth(),\n",
    "                        className=\"flex-grow-1\",\n",
    "                        style={\"height\": \"95vh\"},\n",
    "                        id=\"fig\",\n",
    "                    )\n",
    "                ],\n",
    "                class_name=\"h-100 d-flex flex-column\",\n",
    "                style={\"height\": \"95vh\"},\n",
    "            ),\n",
    "            style={\"height\": \"95vh\"},\n",
    "        ),\n",
    "        dcc.Store(id=\"selected\"),\n",
    "    ],\n",
    "    style={\"height\": \"95vh\"},\n",
    ")\n",
    "\n",
    "\n",
    "@app.callback(\n",
    "    Output(component_id=\"selected\", component_property=\"data\"),\n",
    "    Input(component_id=\"fig\", component_property=\"selectedData\"),\n",
    "    prevent_initial_callbacks=True,\n",
    ")\n",
    "def on_select(selectedData):\n",
    "    selected_cells = []\n",
    "    for cell in selectedData[\"points\"]:\n",
    "        selected_cells.append(int(cell[\"location\"]))\n",
    "        print(selected_cells)\n",
    "    return selected_cells\n",
    "\n",
    "\n",
    "app.run(debug=True, use_reloader=False)  # Turn off reloader if inside Jupyter"
   ],
   "metadata": {
    "collapsed": false
   },
   "id": "34039364c7da2981"
  },
  {
   "cell_type": "code",
   "execution_count": 15,
   "outputs": [],
   "source": [
    "from budgetplus import BudgetPlus\n",
    "import paths\n",
    "bud = BudgetPlus(cbb_path=model.model_output_folder_path.joinpath('mf6_model.cbc'), vor=vor)"
   ],
   "metadata": {
    "collapsed": false,
    "ExecuteTime": {
     "end_time": "2023-11-09T19:28:34.416807Z",
     "start_time": "2023-11-09T19:28:34.189232400Z"
    }
   },
   "id": "746d42bb62132993"
  },
  {
   "cell_type": "code",
   "execution_count": 25,
   "outputs": [],
   "source": [
    "rch_bud = bud.get_rch_bud()\n",
    "rch_bud = (rch_bud.reset_index(drop=True))"
   ],
   "metadata": {
    "collapsed": false,
    "ExecuteTime": {
     "end_time": "2023-11-09T19:32:54.672598Z",
     "start_time": "2023-11-09T19:32:54.641714600Z"
    }
   },
   "id": "7dc846d4ff068e1b"
  },
  {
   "cell_type": "code",
   "execution_count": 2,
   "outputs": [],
   "source": [
    "with open(vor_path, \"rb\") as vor_file_load:\n",
    "    vor = pickle.load(vor_file_load)\n",
    "vor.plot_choropleth().show()"
   ],
   "metadata": {
    "collapsed": false,
    "ExecuteTime": {
     "end_time": "2023-11-18T19:17:22.421317300Z",
     "start_time": "2023-11-18T19:17:19.276944100Z"
    }
   },
   "id": "67176b657ee5d2ee"
  },
  {
   "cell_type": "code",
   "execution_count": 4,
   "outputs": [],
   "source": [
    "from scipy.interpolate import griddata\n",
    "import pandas as pd\n",
    "import plotly.graph_objs as go\n",
    "heads = hp(hds_path=Path.home().joinpath('mf6', 'mf6_model', 'mf6_model.hds'), vor=vor)\n",
    "\"\"\"Get Voronoi Grid Centroid x,y-coords\"\"\"\n",
    "centroids_xy = list(zip(vor.centroids_x, vor.centroids_y))\n",
    "\n",
    "\"\"\"\"Get heads at Vornoi Grid Vertices\"\"\"\n",
    "x_surface, y_surface = vor.generate_grid_coordinates(10)\n",
    "xy = list(zip(x_surface, y_surface))\n",
    "\n",
    "\"\"\"Interpolate heads at Voronoi Vertices\"\"\"\n",
    "kstpkper = (19,15)  # stress period to get data from\n",
    "gridded_heads = griddata(\n",
    "    points=centroids_xy, values=heads.all_heads.loc[kstpkper,:]['elev'].to_list(), xi=xy, method=\"cubic\"\n",
    ")\n",
    "gridded_model_botm = griddata(\n",
    "    points=centroids_xy, values=vor.gdf_topbtm[\"bottom\"], xi=xy, method=\"cubic\"\n",
    ")\n",
    "xyz_heads = list(zip(x_surface, y_surface, gridded_heads, gridded_model_botm))\n",
    "\n",
    "\"\"\"Make DataFrame of x,y,z coordinates, sort by y,\n",
    "and drop any N/A values\"\"\"\n",
    "df_xyz_gridded = pd.DataFrame(xyz_heads, columns=[\"x\", \"y\", \"head\", \"botm\"])\n",
    "df_xyz_gridded.sort_values(by=[\"y\", \"x\"], inplace=True, ascending=False)\n",
    "df_xyz_gridded.reset_index(drop=True, inplace=True)"
   ],
   "metadata": {
    "collapsed": false,
    "ExecuteTime": {
     "end_time": "2023-11-18T07:45:59.019824Z",
     "start_time": "2023-11-18T07:45:55.163794400Z"
    }
   },
   "id": "895c56781e2a7eed"
  },
  {
   "cell_type": "code",
   "execution_count": 5,
   "outputs": [],
   "source": [
    "df_xyz_gridded['mounding'] = df_xyz_gridded['head'] - df_xyz_gridded['botm']"
   ],
   "metadata": {
    "collapsed": false,
    "ExecuteTime": {
     "end_time": "2023-11-18T07:46:20.074486700Z",
     "start_time": "2023-11-18T07:46:20.042166900Z"
    }
   },
   "id": "7dd83e4cf1bc2e86"
  },
  {
   "cell_type": "code",
   "execution_count": 9,
   "outputs": [],
   "source": [
    "\"\"\"Reshape x,y,z arrays for Surface plot\"\"\"\n",
    "col_to_plot = 'head'\n",
    "unqiue_y = list(set(df_xyz_gridded[\"y\"].to_list()))\n",
    "unqiue_x = list(set(df_xyz_gridded[\"x\"].to_list()))\n",
    "xcol = df_xyz_gridded[\"x\"].to_list().count(unqiue_x[2])\n",
    "yrow = df_xyz_gridded[\"y\"].to_list().count(unqiue_y[2])\n",
    "z_reshaped = df_xyz_gridded[col_to_plot].to_numpy().reshape(xcol, yrow)\n",
    "mounding_reshaped = df_xyz_gridded['mounding'].to_numpy().reshape(xcol, yrow)\n",
    "x_reshaped = df_xyz_gridded[\"x\"].to_numpy().reshape(xcol, yrow)\n",
    "y_reshaped = df_xyz_gridded[\"y\"].to_numpy().reshape(xcol, yrow)\n",
    "botm_reshaped = df_xyz_gridded[\"botm\"].to_numpy().reshape(xcol, yrow)\n",
    "\n",
    "z_min = df_xyz_gridded[col_to_plot].min()\n",
    "z_max = df_xyz_gridded[col_to_plot].max()\n",
    "\n",
    "surface_scene = go.layout.Scene(zaxis_range=[-500, 500])\n",
    "\n",
    "fig_surf = go.Figure(\n",
    "    go.Surface(\n",
    "        z=z_reshaped,\n",
    "        x=x_reshaped,\n",
    "        y=y_reshaped,\n",
    "        surfacecolor=mounding_reshaped,\n",
    "        opacity=1,\n",
    "        colorscale='earth',\n",
    "        scene=\"scene\",\n",
    "        hovertemplate=\n",
    "        contours={\n",
    "            \"z\": {\n",
    "                \"show\": True,\n",
    "                \"start\": z_min,\n",
    "                \"end\": z_max,\n",
    "                \"size\": 2,\n",
    "                \"highlight\": True,\n",
    "                \"width\": 2,\n",
    "            }\n",
    "        },\n",
    "    )\n",
    ")\n",
    "fig_surf.update_scenes(patch=surface_scene)\n",
    "\n",
    "fig_surf.show(renderer=\"browser\")"
   ],
   "metadata": {
    "collapsed": false,
    "ExecuteTime": {
     "end_time": "2023-11-18T07:49:27.305205500Z",
     "start_time": "2023-11-18T07:49:25.868094100Z"
    }
   },
   "id": "f7051c10ce862297"
  },
  {
   "cell_type": "code",
   "execution_count": 7,
   "outputs": [],
   "source": [
    "heads.plot_choropleth(stp_per_to_plot=(19,15), plot_mounding=True)"
   ],
   "metadata": {
    "collapsed": false,
    "ExecuteTime": {
     "end_time": "2023-11-18T07:47:13.192906Z",
     "start_time": "2023-11-18T07:47:10.115492600Z"
    }
   },
   "id": "8ce33112b5853ae5"
  },
  {
   "cell_type": "code",
   "execution_count": 6,
   "outputs": [],
   "source": [
    "def add_rectangle(\n",
    "        x_dist=100,\n",
    "        y_dist=100,\n",
    "        origin=(0, 0),\n",
    "):\n",
    "    x_min, y_min = origin[0], origin[1]\n",
    "    x_max, y_max = x_min + x_dist, y_min + y_dist\n",
    "    polygon_coords = ((x_min, y_min), (x_min, y_max),\n",
    "                      (x_max, y_max), (x_max, y_min))\n",
    "    polygon = shp.Polygon(polygon_coords)\n",
    "\n",
    "    return polygon"
   ],
   "metadata": {
    "collapsed": false,
    "ExecuteTime": {
     "end_time": "2023-11-15T01:54:51.971193300Z",
     "start_time": "2023-11-15T01:54:51.941432600Z"
    }
   },
   "id": "435c9b7dd9632ab"
  },
  {
   "cell_type": "code",
   "execution_count": 7,
   "outputs": [],
   "source": [
    "rect = add_rectangle()"
   ],
   "metadata": {
    "collapsed": false,
    "ExecuteTime": {
     "end_time": "2023-11-15T01:55:00.001774900Z",
     "start_time": "2023-11-15T01:54:59.972312400Z"
    }
   },
   "id": "2dbad047466feec1"
  },
  {
   "cell_type": "code",
   "execution_count": 8,
   "outputs": [
    {
     "data": {
      "text/plain": "<POLYGON ((0 0, 0 100, 100 100, 100 0, 0 0))>",
      "image/svg+xml": "<svg xmlns=\"http://www.w3.org/2000/svg\" xmlns:xlink=\"http://www.w3.org/1999/xlink\" width=\"108.0\" height=\"108.0\" viewBox=\"-4.0 -4.0 108.0 108.0\" preserveAspectRatio=\"xMinYMin meet\"><g transform=\"matrix(1,0,0,-1,0,100.0)\"><path fill-rule=\"evenodd\" fill=\"#66cc99\" stroke=\"#555555\" stroke-width=\"2.0\" opacity=\"0.6\" d=\"M 0.0,0.0 L 0.0,100.0 L 100.0,100.0 L 100.0,0.0 L 0.0,0.0 z\" /></g></svg>"
     },
     "execution_count": 8,
     "metadata": {},
     "output_type": "execute_result"
    }
   ],
   "source": [
    "rect."
   ],
   "metadata": {
    "collapsed": false,
    "ExecuteTime": {
     "end_time": "2023-11-15T01:55:02.931393Z",
     "start_time": "2023-11-15T01:55:02.884667Z"
    }
   },
   "id": "f27a73cbc50f5fa4"
  },
  {
   "cell_type": "code",
   "execution_count": null,
   "outputs": [],
   "source": [],
   "metadata": {
    "collapsed": false
   },
   "id": "8fb3421280c3f60c"
  }
 ],
 "metadata": {
  "kernelspec": {
   "name": "python3",
   "language": "python",
   "display_name": "Python 3 (ipykernel)"
  },
  "language_info": {
   "codemirror_mode": {
    "name": "ipython",
    "version": 2
   },
   "file_extension": ".py",
   "mimetype": "text/x-python",
   "name": "python",
   "nbconvert_exporter": "python",
   "pygments_lexer": "ipython2",
   "version": "2.7.6"
  }
 },
 "nbformat": 4,
 "nbformat_minor": 5
}
